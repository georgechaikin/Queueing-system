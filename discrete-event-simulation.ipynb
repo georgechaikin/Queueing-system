{
 "cells": [
  {
   "cell_type": "markdown",
   "id": "ef38d5da-9009-4215-90c1-93ce68e70e13",
   "metadata": {},
   "source": [
    "# СМО с взаимопомощью и без очереди (M/M/n/0)"
   ]
  },
  {
   "cell_type": "markdown",
   "id": "3b2a114b-b666-4e22-bfaa-8b844ee8ac39",
   "metadata": {},
   "source": [
    "СМО с взаимопомощью:\n",
    "* Взаимопомощь между каналами обслуживания\n",
    "* Если поступает заявка, когда каналы свободны, то она обслуживается всеми каналами\n",
    "* Если поступает заявка числом меньше каналов, то она обслуживается частью каналов\n",
    "* Если поступает заявка в момент, когда обслуживаются заявки числом меньше, чем (число каналов + число мест в очереди), то она встает в очередь\n",
    "* В остальных случаях заявка покидает систему\n",
    "\n",
    "СМО без очереди:\n",
    "* Не учитывается очередь"
   ]
  },
  {
   "cell_type": "markdown",
   "id": "947ecbcd-c9b9-42bc-9245-a2161e717501",
   "metadata": {},
   "source": [
    "Состояния системы:\n",
    "* $S_0$ - состояние, когда все каналы свободны\n",
    "* $S_1$ - состояние, когда одна заявка обслуживается всеми n каналами\n",
    "* $S_2$ - состояние, когда две заявки обслуживаются всеми n каналами\n",
    "* $S_n$ - состояние, когда n заявки обслуживаются n каналами\n",
    "\n",
    "Параметры:\n",
    "* $n$ - кол-во каналов\n",
    "* $\\lambda$ - интенсивность потока заявок\n",
    "* $\\mu_n = n\\mu$ - интенсивность потока обслуживания заявки"
   ]
  },
  {
   "cell_type": "markdown",
   "id": "ec6ff475-bdd6-40bd-bc6f-05de619be9d8",
   "metadata": {},
   "source": [
    "## Дискретно-событийное моделирование"
   ]
  },
  {
   "cell_type": "code",
   "execution_count": 532,
   "id": "872cef0e-101b-4d9d-8964-11f4c53884aa",
   "metadata": {},
   "outputs": [],
   "source": [
    "import numpy as np"
   ]
  },
  {
   "cell_type": "code",
   "execution_count": 924,
   "id": "05916eb8-f204-483c-9ec8-581674a92ab1",
   "metadata": {},
   "outputs": [],
   "source": [
    "channels = 2\n",
    "l = 1\n",
    "mu = 10\n",
    "mu = channels*mu\n",
    "\n",
    "params = {\n",
    "'channels': channels,\n",
    "'l': l,\n",
    "'mu': mu,\n",
    "'samples': 1_000,\n",
    "'jobs': 5\n",
    "}"
   ]
  },
  {
   "cell_type": "code",
   "execution_count": 925,
   "id": "aab30592-a71c-4345-847a-02cb318c025d",
   "metadata": {},
   "outputs": [
    {
     "name": "stdout",
     "output_type": "stream",
     "text": [
      "Среднее время прихода заявки:  1.0\n",
      "Среднее время обработки заявки:  0.05\n"
     ]
    }
   ],
   "source": [
    "print('Среднее время прихода заявки: ', 1/params['l'])\n",
    "print('Среднее время обработки заявки: ', 1/params['mu'])"
   ]
  },
  {
   "cell_type": "code",
   "execution_count": 926,
   "id": "c722b9f7-63d4-40ca-832c-377166931570",
   "metadata": {},
   "outputs": [],
   "source": [
    "def get_process(time_between_events, **params):\n",
    "    \"\"\"\n",
    "    Собирает события из процесса СМО\n",
    "    Returns:\n",
    "        tuple: пара списков (список со временем прибытий заявок и список со временем уходов заявок по завершении обслуживания)\n",
    "    \"\"\"\n",
    "    assert np.all(time_between_events>0)\n",
    "    \n",
    "    l = params['l'] \n",
    "    mu = params['mu']\n",
    "    n = params['channels']\n",
    "    \n",
    "    t = np.cumsum(time_between_events)\n",
    "    c = [t[0]+ np.random.exponential(scale = 1/l)]\n",
    "    while t.size>1:\n",
    "        # queries_nb = np.argmin(c[-1]>t) + 1\n",
    "        # event = min(queries_nb, n) - 1\n",
    "        \n",
    "        queries_nb = np.argmin(c[-1]>t)\n",
    "        if queries_nb==0:\n",
    "            queries_nb = len(t)\n",
    "        \n",
    "        event = min(queries_nb, n) - 1\n",
    "        \n",
    "        # print(queries_nb)\n",
    "        # print(event)\n",
    "        \n",
    "        if queries_nb>n:\n",
    "            # print(np.arange(n, queries_nb))\n",
    "            t = np.delete(t, np.arange(n, queries_nb))\n",
    "            if t.size<=1:\n",
    "                continue\n",
    "        \n",
    "        \n",
    "        # print(t.size)\n",
    "        # print(c[-1])\n",
    "        # print(t)\n",
    "        # print(len(c))\n",
    "        # print()\n",
    "        assert event>=0\n",
    "        handling_time = np.random.exponential(scale = 1/l)\n",
    "        c_i = (t[1] + handling_time) if event == 0 else (c[-1] + handling_time)\n",
    "        c.append(c_i)\n",
    "        t=np.delete(t, 0)\n",
    "    return np.cumsum(time_between_events), np.array(c)"
   ]
  },
  {
   "cell_type": "code",
   "execution_count": 953,
   "id": "b6b6119d-a720-43d8-b288-6adc3bcc11f4",
   "metadata": {},
   "outputs": [],
   "source": [
    "def get_events(t,c, **params):\n",
    "    \"\"\"\n",
    "    Выдает последовательность событий\n",
    "    \"\"\"\n",
    "    n = params['channels']\n",
    "    events = [0,]\n",
    "    t, c = t.copy(), c.copy()\n",
    "    np.delete(t, 0)\n",
    "    \n",
    "    while t.size!=0 or c.size!=0:\n",
    "        if t.size==0:\n",
    "            # print(c[0])\n",
    "            max_index = 1\n",
    "        else:\n",
    "            # print(t[0], c[0])\n",
    "            max_index = np.argmin([t[0], c[0]])\n",
    "        if max_index:\n",
    "            events += [events[-1]-1]\n",
    "            c = np.delete(c,0)\n",
    "        else:\n",
    "            events += [min(events[-1]+1, n)]\n",
    "            t = np.delete(t,0)\n",
    "        # print(events[-1])\n",
    "        assert events[-1]>=0\n",
    "    \n",
    "    return np.array(events)"
   ]
  },
  {
   "cell_type": "code",
   "execution_count": 1001,
   "id": "7f82ea2c-9a7e-42dd-9820-991d14cb761c",
   "metadata": {},
   "outputs": [
    {
     "data": {
      "image/png": "[encoded data removed]",
      "text/plain": [
       "<Figure size 432x288 with 1 Axes>"
      ]
     },
     "metadata": {
      "needs_background": "light"
     },
     "output_type": "display_data"
    }
   ],
   "source": [
    "import matplotlib.pyplot as plt\n",
    "\n",
    "time_between_jobs = np.random.exponential(scale = 1/params['l'], size = params['jobs'])\n",
    "t,c = get_process(time_between_jobs, **params)\n",
    "events = get_events(t,c, **params)\n",
    "t,c, len(t), len(c), events\n",
    "\n",
    "x = np.concatenate((t,c))\n",
    "x.sort(kind='mergesort')\n",
    "y = events\n",
    "plt.step(x,y[:-1])\n",
    "plt.grid()\n",
    "plt.show()"
   ]
  },
  {
   "cell_type": "code",
   "execution_count": 957,
   "id": "82542dba-967a-4717-99a4-038682839502",
   "metadata": {},
   "outputs": [
    {
     "ename": "ValueError",
     "evalue": "shape mismatch: objects cannot be broadcast to a single shape",
     "output_type": "error",
     "traceback": [
      "\u001b[1;31m---------------------------------------------------------------------------\u001b[0m",
      "\u001b[1;31mValueError\u001b[0m                                Traceback (most recent call last)",
      "\u001b[1;32m~\\AppData\\Local\\Temp\\ipykernel_16216\\3989947025.py\u001b[0m in \u001b[0;36m<module>\u001b[1;34m\u001b[0m\n\u001b[0;32m      7\u001b[0m \u001b[0mplt\u001b[0m\u001b[1;33m.\u001b[0m\u001b[0mfigure\u001b[0m\u001b[1;33m(\u001b[0m\u001b[0mfigsize\u001b[0m \u001b[1;33m=\u001b[0m \u001b[1;33m[\u001b[0m\u001b[1;36m20\u001b[0m\u001b[1;33m,\u001b[0m\u001b[1;36m20\u001b[0m\u001b[1;33m]\u001b[0m\u001b[1;33m)\u001b[0m\u001b[1;33m\u001b[0m\u001b[1;33m\u001b[0m\u001b[0m\n\u001b[0;32m      8\u001b[0m \u001b[0mplt\u001b[0m\u001b[1;33m.\u001b[0m\u001b[0mbarh\u001b[0m\u001b[1;33m(\u001b[0m\u001b[0mjobs_range\u001b[0m\u001b[1;33m,\u001b[0m \u001b[0mtime_between_jobs\u001b[0m\u001b[1;33m,\u001b[0m \u001b[0mleft\u001b[0m \u001b[1;33m=\u001b[0m \u001b[0mshift\u001b[0m\u001b[1;33m,\u001b[0m \u001b[0malpha\u001b[0m \u001b[1;33m=\u001b[0m \u001b[1;36m1.\u001b[0m\u001b[1;33m,\u001b[0m \u001b[0mcolor\u001b[0m \u001b[1;33m=\u001b[0m \u001b[1;34m'blue'\u001b[0m\u001b[1;33m)\u001b[0m\u001b[1;33m\u001b[0m\u001b[1;33m\u001b[0m\u001b[0m\n\u001b[1;32m----> 9\u001b[1;33m \u001b[0mplt\u001b[0m\u001b[1;33m.\u001b[0m\u001b[0mbarh\u001b[0m\u001b[1;33m(\u001b[0m\u001b[0mjobs_range\u001b[0m\u001b[1;33m,\u001b[0m \u001b[0mjobs_handling_time\u001b[0m\u001b[1;33m,\u001b[0m \u001b[0mleft\u001b[0m \u001b[1;33m=\u001b[0m \u001b[0mshift\u001b[0m\u001b[1;33m,\u001b[0m \u001b[0malpha\u001b[0m \u001b[1;33m=\u001b[0m \u001b[1;36m.5\u001b[0m\u001b[1;33m,\u001b[0m \u001b[0mcolor\u001b[0m \u001b[1;33m=\u001b[0m \u001b[1;34m'green'\u001b[0m\u001b[1;33m)\u001b[0m\u001b[1;33m\u001b[0m\u001b[1;33m\u001b[0m\u001b[0m\n\u001b[0m\u001b[0;32m     10\u001b[0m \u001b[0mplt\u001b[0m\u001b[1;33m.\u001b[0m\u001b[0mgrid\u001b[0m\u001b[1;33m(\u001b[0m\u001b[1;33m)\u001b[0m\u001b[1;33m\u001b[0m\u001b[1;33m\u001b[0m\u001b[0m\n\u001b[0;32m     11\u001b[0m \u001b[0mplt\u001b[0m\u001b[1;33m.\u001b[0m\u001b[0mshow\u001b[0m\u001b[1;33m(\u001b[0m\u001b[1;33m)\u001b[0m\u001b[1;33m\u001b[0m\u001b[1;33m\u001b[0m\u001b[0m\n",
      "\u001b[1;32mc:\\users\\blued\\appdata\\local\\programs\\python\\python37\\lib\\site-packages\\matplotlib\\pyplot.py\u001b[0m in \u001b[0;36mbarh\u001b[1;34m(y, width, height, left, align, **kwargs)\u001b[0m\n\u001b[0;32m   2402\u001b[0m \u001b[1;32mdef\u001b[0m \u001b[0mbarh\u001b[0m\u001b[1;33m(\u001b[0m\u001b[0my\u001b[0m\u001b[1;33m,\u001b[0m \u001b[0mwidth\u001b[0m\u001b[1;33m,\u001b[0m \u001b[0mheight\u001b[0m\u001b[1;33m=\u001b[0m\u001b[1;36m0.8\u001b[0m\u001b[1;33m,\u001b[0m \u001b[0mleft\u001b[0m\u001b[1;33m=\u001b[0m\u001b[1;32mNone\u001b[0m\u001b[1;33m,\u001b[0m \u001b[1;33m*\u001b[0m\u001b[1;33m,\u001b[0m \u001b[0malign\u001b[0m\u001b[1;33m=\u001b[0m\u001b[1;34m'center'\u001b[0m\u001b[1;33m,\u001b[0m \u001b[1;33m**\u001b[0m\u001b[0mkwargs\u001b[0m\u001b[1;33m)\u001b[0m\u001b[1;33m:\u001b[0m\u001b[1;33m\u001b[0m\u001b[1;33m\u001b[0m\u001b[0m\n\u001b[0;32m   2403\u001b[0m     return gca().barh(\n\u001b[1;32m-> 2404\u001b[1;33m         y, width, height=height, left=left, align=align, **kwargs)\n\u001b[0m\u001b[0;32m   2405\u001b[0m \u001b[1;33m\u001b[0m\u001b[0m\n\u001b[0;32m   2406\u001b[0m \u001b[1;33m\u001b[0m\u001b[0m\n",
      "\u001b[1;32mc:\\users\\blued\\appdata\\local\\programs\\python\\python37\\lib\\site-packages\\matplotlib\\axes\\_axes.py\u001b[0m in \u001b[0;36mbarh\u001b[1;34m(self, y, width, height, left, align, **kwargs)\u001b[0m\n\u001b[0;32m   2550\u001b[0m         \u001b[0mkwargs\u001b[0m\u001b[1;33m.\u001b[0m\u001b[0msetdefault\u001b[0m\u001b[1;33m(\u001b[0m\u001b[1;34m'orientation'\u001b[0m\u001b[1;33m,\u001b[0m \u001b[1;34m'horizontal'\u001b[0m\u001b[1;33m)\u001b[0m\u001b[1;33m\u001b[0m\u001b[1;33m\u001b[0m\u001b[0m\n\u001b[0;32m   2551\u001b[0m         patches = self.bar(x=left, height=height, width=width, bottom=y,\n\u001b[1;32m-> 2552\u001b[1;33m                            align=align, **kwargs)\n\u001b[0m\u001b[0;32m   2553\u001b[0m         \u001b[1;32mreturn\u001b[0m \u001b[0mpatches\u001b[0m\u001b[1;33m\u001b[0m\u001b[1;33m\u001b[0m\u001b[0m\n\u001b[0;32m   2554\u001b[0m \u001b[1;33m\u001b[0m\u001b[0m\n",
      "\u001b[1;32mc:\\users\\blued\\appdata\\local\\programs\\python\\python37\\lib\\site-packages\\matplotlib\\__init__.py\u001b[0m in \u001b[0;36minner\u001b[1;34m(ax, data, *args, **kwargs)\u001b[0m\n\u001b[0;32m   1410\u001b[0m     \u001b[1;32mdef\u001b[0m \u001b[0minner\u001b[0m\u001b[1;33m(\u001b[0m\u001b[0max\u001b[0m\u001b[1;33m,\u001b[0m \u001b[1;33m*\u001b[0m\u001b[0margs\u001b[0m\u001b[1;33m,\u001b[0m \u001b[0mdata\u001b[0m\u001b[1;33m=\u001b[0m\u001b[1;32mNone\u001b[0m\u001b[1;33m,\u001b[0m \u001b[1;33m**\u001b[0m\u001b[0mkwargs\u001b[0m\u001b[1;33m)\u001b[0m\u001b[1;33m:\u001b[0m\u001b[1;33m\u001b[0m\u001b[1;33m\u001b[0m\u001b[0m\n\u001b[0;32m   1411\u001b[0m         \u001b[1;32mif\u001b[0m \u001b[0mdata\u001b[0m \u001b[1;32mis\u001b[0m \u001b[1;32mNone\u001b[0m\u001b[1;33m:\u001b[0m\u001b[1;33m\u001b[0m\u001b[1;33m\u001b[0m\u001b[0m\n\u001b[1;32m-> 1412\u001b[1;33m             \u001b[1;32mreturn\u001b[0m \u001b[0mfunc\u001b[0m\u001b[1;33m(\u001b[0m\u001b[0max\u001b[0m\u001b[1;33m,\u001b[0m \u001b[1;33m*\u001b[0m\u001b[0mmap\u001b[0m\u001b[1;33m(\u001b[0m\u001b[0msanitize_sequence\u001b[0m\u001b[1;33m,\u001b[0m \u001b[0margs\u001b[0m\u001b[1;33m)\u001b[0m\u001b[1;33m,\u001b[0m \u001b[1;33m**\u001b[0m\u001b[0mkwargs\u001b[0m\u001b[1;33m)\u001b[0m\u001b[1;33m\u001b[0m\u001b[1;33m\u001b[0m\u001b[0m\n\u001b[0m\u001b[0;32m   1413\u001b[0m \u001b[1;33m\u001b[0m\u001b[0m\n\u001b[0;32m   1414\u001b[0m         \u001b[0mbound\u001b[0m \u001b[1;33m=\u001b[0m \u001b[0mnew_sig\u001b[0m\u001b[1;33m.\u001b[0m\u001b[0mbind\u001b[0m\u001b[1;33m(\u001b[0m\u001b[0max\u001b[0m\u001b[1;33m,\u001b[0m \u001b[1;33m*\u001b[0m\u001b[0margs\u001b[0m\u001b[1;33m,\u001b[0m \u001b[1;33m**\u001b[0m\u001b[0mkwargs\u001b[0m\u001b[1;33m)\u001b[0m\u001b[1;33m\u001b[0m\u001b[1;33m\u001b[0m\u001b[0m\n",
      "\u001b[1;32mc:\\users\\blued\\appdata\\local\\programs\\python\\python37\\lib\\site-packages\\matplotlib\\axes\\_axes.py\u001b[0m in \u001b[0;36mbar\u001b[1;34m(self, x, height, width, bottom, align, **kwargs)\u001b[0m\n\u001b[0;32m   2342\u001b[0m         x, height, width, y, linewidth, hatch = np.broadcast_arrays(\n\u001b[0;32m   2343\u001b[0m             \u001b[1;31m# Make args iterable too.\u001b[0m\u001b[1;33m\u001b[0m\u001b[1;33m\u001b[0m\u001b[1;33m\u001b[0m\u001b[0m\n\u001b[1;32m-> 2344\u001b[1;33m             np.atleast_1d(x), height, width, y, linewidth, hatch)\n\u001b[0m\u001b[0;32m   2345\u001b[0m \u001b[1;33m\u001b[0m\u001b[0m\n\u001b[0;32m   2346\u001b[0m         \u001b[1;31m# Now that units have been converted, set the tick locations.\u001b[0m\u001b[1;33m\u001b[0m\u001b[1;33m\u001b[0m\u001b[1;33m\u001b[0m\u001b[0m\n",
      "\u001b[1;32m<__array_function__ internals>\u001b[0m in \u001b[0;36mbroadcast_arrays\u001b[1;34m(*args, **kwargs)\u001b[0m\n",
      "\u001b[1;32mc:\\users\\blued\\appdata\\local\\programs\\python\\python37\\lib\\site-packages\\numpy\\lib\\stride_tricks.py\u001b[0m in \u001b[0;36mbroadcast_arrays\u001b[1;34m(subok, *args)\u001b[0m\n\u001b[0;32m    536\u001b[0m     \u001b[0margs\u001b[0m \u001b[1;33m=\u001b[0m \u001b[1;33m[\u001b[0m\u001b[0mnp\u001b[0m\u001b[1;33m.\u001b[0m\u001b[0marray\u001b[0m\u001b[1;33m(\u001b[0m\u001b[0m_m\u001b[0m\u001b[1;33m,\u001b[0m \u001b[0mcopy\u001b[0m\u001b[1;33m=\u001b[0m\u001b[1;32mFalse\u001b[0m\u001b[1;33m,\u001b[0m \u001b[0msubok\u001b[0m\u001b[1;33m=\u001b[0m\u001b[0msubok\u001b[0m\u001b[1;33m)\u001b[0m \u001b[1;32mfor\u001b[0m \u001b[0m_m\u001b[0m \u001b[1;32min\u001b[0m \u001b[0margs\u001b[0m\u001b[1;33m]\u001b[0m\u001b[1;33m\u001b[0m\u001b[1;33m\u001b[0m\u001b[0m\n\u001b[0;32m    537\u001b[0m \u001b[1;33m\u001b[0m\u001b[0m\n\u001b[1;32m--> 538\u001b[1;33m     \u001b[0mshape\u001b[0m \u001b[1;33m=\u001b[0m \u001b[0m_broadcast_shape\u001b[0m\u001b[1;33m(\u001b[0m\u001b[1;33m*\u001b[0m\u001b[0margs\u001b[0m\u001b[1;33m)\u001b[0m\u001b[1;33m\u001b[0m\u001b[1;33m\u001b[0m\u001b[0m\n\u001b[0m\u001b[0;32m    539\u001b[0m \u001b[1;33m\u001b[0m\u001b[0m\n\u001b[0;32m    540\u001b[0m     \u001b[1;32mif\u001b[0m \u001b[0mall\u001b[0m\u001b[1;33m(\u001b[0m\u001b[0marray\u001b[0m\u001b[1;33m.\u001b[0m\u001b[0mshape\u001b[0m \u001b[1;33m==\u001b[0m \u001b[0mshape\u001b[0m \u001b[1;32mfor\u001b[0m \u001b[0marray\u001b[0m \u001b[1;32min\u001b[0m \u001b[0margs\u001b[0m\u001b[1;33m)\u001b[0m\u001b[1;33m:\u001b[0m\u001b[1;33m\u001b[0m\u001b[1;33m\u001b[0m\u001b[0m\n",
      "\u001b[1;32mc:\\users\\blued\\appdata\\local\\programs\\python\\python37\\lib\\site-packages\\numpy\\lib\\stride_tricks.py\u001b[0m in \u001b[0;36m_broadcast_shape\u001b[1;34m(*args)\u001b[0m\n\u001b[0;32m    418\u001b[0m     \u001b[1;31m# use the old-iterator because np.nditer does not handle size 0 arrays\u001b[0m\u001b[1;33m\u001b[0m\u001b[1;33m\u001b[0m\u001b[1;33m\u001b[0m\u001b[0m\n\u001b[0;32m    419\u001b[0m     \u001b[1;31m# consistently\u001b[0m\u001b[1;33m\u001b[0m\u001b[1;33m\u001b[0m\u001b[1;33m\u001b[0m\u001b[0m\n\u001b[1;32m--> 420\u001b[1;33m     \u001b[0mb\u001b[0m \u001b[1;33m=\u001b[0m \u001b[0mnp\u001b[0m\u001b[1;33m.\u001b[0m\u001b[0mbroadcast\u001b[0m\u001b[1;33m(\u001b[0m\u001b[1;33m*\u001b[0m\u001b[0margs\u001b[0m\u001b[1;33m[\u001b[0m\u001b[1;33m:\u001b[0m\u001b[1;36m32\u001b[0m\u001b[1;33m]\u001b[0m\u001b[1;33m)\u001b[0m\u001b[1;33m\u001b[0m\u001b[1;33m\u001b[0m\u001b[0m\n\u001b[0m\u001b[0;32m    421\u001b[0m     \u001b[1;31m# unfortunately, it cannot handle 32 or more arguments directly\u001b[0m\u001b[1;33m\u001b[0m\u001b[1;33m\u001b[0m\u001b[1;33m\u001b[0m\u001b[0m\n\u001b[0;32m    422\u001b[0m     \u001b[1;32mfor\u001b[0m \u001b[0mpos\u001b[0m \u001b[1;32min\u001b[0m \u001b[0mrange\u001b[0m\u001b[1;33m(\u001b[0m\u001b[1;36m32\u001b[0m\u001b[1;33m,\u001b[0m \u001b[0mlen\u001b[0m\u001b[1;33m(\u001b[0m\u001b[0margs\u001b[0m\u001b[1;33m)\u001b[0m\u001b[1;33m,\u001b[0m \u001b[1;36m31\u001b[0m\u001b[1;33m)\u001b[0m\u001b[1;33m:\u001b[0m\u001b[1;33m\u001b[0m\u001b[1;33m\u001b[0m\u001b[0m\n",
      "\u001b[1;31mValueError\u001b[0m: shape mismatch: objects cannot be broadcast to a single shape"
     ]
    },
    {
     "data": {
      "image/png": "[encoded data removed]",
      "text/plain": [
       "<Figure size 1440x1440 with 1 Axes>"
      ]
     },
     "metadata": {
      "needs_background": "light"
     },
     "output_type": "display_data"
    }
   ],
   "source": [
    "jobs_range = np.arange(params['jobs'])\n",
    "\n",
    "# Смещение в правую сторону от прошлого отрезка\n",
    "shift = t\n",
    "shift = np.roll(shift, 1)\n",
    "shift[0] = 0\n",
    "plt.figure(figsize = [20,20])\n",
    "plt.barh(jobs_range, time_between_jobs, left = shift, alpha = 1., color = 'blue')\n",
    "plt.barh(jobs_range, jobs_handling_time, left = shift, alpha = .5, color = 'green')\n",
    "plt.grid()\n",
    "plt.show()"
   ]
  },
  {
   "cell_type": "code",
   "execution_count": null,
   "id": "b68a0d78-4146-4305-aa06-7d0c98ed7506",
   "metadata": {},
   "outputs": [],
   "source": [
    "plt.barh(np.zeros(len(t)), t)"
   ]
  },
  {
   "cell_type": "code",
   "execution_count": 52,
   "id": "14037d27-6a70-44b4-ad67-0978b441dc0d",
   "metadata": {},
   "outputs": [
    {
     "data": {
      "image/png": "[encoded data removed]",
      "text/plain": [
       "<Figure size 1440x1440 with 1 Axes>"
      ]
     },
     "metadata": {
      "needs_background": "light"
     },
     "output_type": "display_data"
    }
   ],
   "source": [
    "jobs_range = np.arange(params['jobs'])\n",
    "\n",
    "# Смещение в правую сторону от прошлого отрезка\n",
    "shift = np.cumsum(time_between_jobs)\n",
    "shift = np.roll(shift, 1)\n",
    "shift[0] = 0\n",
    "plt.figure(figsize = [20,20])\n",
    "plt.barh(jobs_range, time_between_jobs, left = shift, alpha = 1., color = 'blue')\n",
    "plt.barh(jobs_range, jobs_handling_time, left = shift, alpha = .5, color = 'green')\n",
    "plt.grid()\n",
    "plt.show()"
   ]
  },
  {
   "cell_type": "code",
   "execution_count": 31,
   "id": "c62500a0-da82-4620-b241-1e8138895eb2",
   "metadata": {},
   "outputs": [
    {
     "name": "stdout",
     "output_type": "stream",
     "text": [
      "Относительная пропускная способность (Q):  0.9999999180799983\n",
      "Абсолютная пропускная способность (A):  0.9999999180799983\n",
      "Среднее число занятых каналов (k):  1.9999998361599967\n"
     ]
    }
   ],
   "source": [
    "ro = params['l']/params['mu']\n",
    "p0 = (1-ro)/(1-ro**(params['channels']+1))\n",
    "p = []\n",
    "p.append(p0)\n",
    "[p.append((ro**n)*p0) for n in range(1, params['channels']+1)]\n",
    "\n",
    "# print('Вероятность отказа: ', p1)\n",
    "print('Относительная пропускная способность (Q): ', 1-p[-1])\n",
    "print('Абсолютная пропускная способность (A): ', params['l']*(1-p[-1]))\n",
    "print('Среднее число занятых каналов (k): ', params['channels']*params['l']*(1-p[-1])/params['mu'])"
   ]
  },
  {
   "cell_type": "code",
   "execution_count": null,
   "id": "0976a6ae-3b55-433e-b30a-6428931a9010",
   "metadata": {},
   "outputs": [],
   "source": [
    "def isin(point, section):\n",
    "    return section[0]<point<section[0]"
   ]
  },
  {
   "cell_type": "code",
   "execution_count": 54,
   "id": "9b7c242d-2b71-43c7-a6b8-346df2c19a57",
   "metadata": {},
   "outputs": [
    {
     "data": {
      "text/plain": [
       "0.4223169626459388"
      ]
     },
     "execution_count": 54,
     "metadata": {},
     "output_type": "execute_result"
    }
   ],
   "source": [
    "np.random.exponential(scale = 1/l, size = 1)[0]"
   ]
  },
  {
   "cell_type": "code",
   "execution_count": 79,
   "id": "1703e72c-8087-475b-a3ee-f2df6055a07a",
   "metadata": {},
   "outputs": [
    {
     "data": {
      "text/plain": [
       "array([4, 5])"
      ]
     },
     "execution_count": 79,
     "metadata": {},
     "output_type": "execute_result"
    }
   ],
   "source": [
    "example = np.array([1,2,3,4,5])\n",
    "example[example>3]"
   ]
  },
  {
   "cell_type": "code",
   "execution_count": 80,
   "id": "ca1cc32c-0fcc-4cfb-af64-212febf8f434",
   "metadata": {},
   "outputs": [],
   "source": [
    "# def plot_step_func(time_between_events):\n",
    "#     events = []\n",
    "#     events = []\n"
   ]
  },
  {
   "cell_type": "code",
   "execution_count": 77,
   "id": "3930af65-d81f-42b5-b525-322334a3ba63",
   "metadata": {},
   "outputs": [
    {
     "data": {
      "text/plain": [
       "2"
      ]
     },
     "execution_count": 77,
     "metadata": {},
     "output_type": "execute_result"
    }
   ],
   "source": [
    "collect_events()"
   ]
  },
  {
   "cell_type": "code",
   "execution_count": 75,
   "id": "119f96dc-c70f-4ed4-a11f-788a8548efbc",
   "metadata": {},
   "outputs": [
    {
     "data": {
      "text/plain": [
       "(array([ True,  True, False, False, False, False]), 2)"
      ]
     },
     "execution_count": 75,
     "metadata": {},
     "output_type": "execute_result"
    }
   ],
   "source": [
    "3>np.array([1,2,3.5,4,5,6]), np.argmin(3>np.array([1,2,3.5,4,5,6]))"
   ]
  },
  {
   "cell_type": "code",
   "execution_count": null,
   "id": "02560d65-6ac9-4bf7-9f69-dc28dcab018f",
   "metadata": {},
   "outputs": [],
   "source": [
    "def simulate(l, mu, channels, samples, jobs):\n",
    "    pass"
   ]
  },
  {
   "cell_type": "markdown",
   "id": "634fd38d-58a5-42ab-add7-7a6a4b976679",
   "metadata": {},
   "source": [
    "## Источники\n",
    "* https://cyclowiki.org/wiki/%D0%A1%D0%9C%D0%9E_%D1%81_%D0%B2%D0%B7%D0%B0%D0%B8%D0%BC%D0%BE%D0%BF%D0%BE%D0%BC%D0%BE%D1%89%D1%8C%D1%8E\n",
    "*https://cyclowiki.org/wiki/%D0%97%D0%B0%D0%BC%D0%BA%D0%BD%D1%83%D1%82%D0%B0%D1%8F_%D0%A1%D0%9C%D0%9E_%D0%B1%D0%B5%D0%B7_%D0%BE%D1%87%D0%B5%D1%80%D0%B5%D0%B4%D0%B8#:~:text=%D0%A1%D0%9C%D0%9E%20%D0%B7%D0%B0%D0%BC%D0%BA%D0%BD%D1%83%D1%82%D0%B0%D1%8F%20%D0%B1%D0%B5%D0%B7%20%D0%BE%D1%87%D0%B5%D1%80%D0%B5%D0%B4%D0%B8%20%E2%80%94%20%D1%8D%D1%82%D0%BE,%D0%BF%D0%BE%D1%82%D0%BE%D0%BA%20%D0%B7%D0%B0%D1%8F%D0%B2%D0%BE%D0%BA%20%D0%BE%D1%82%20%D0%BE%D0%B4%D0%BD%D0%BE%D0%B3%D0%BE%20%D0%B8%D1%81%D1%82%D0%BE%D1%87%D0%BD%D0%B8%D0%BA%D0%B0.\n",
    "* https://studref.com/365794/agropromyshlennost/sistemy_massovogo_obsluzhivaniya_vzaimopomoschyu"
   ]
  }
 ],
 "metadata": {
  "kernelspec": {
   "display_name": "Python 3 (ipykernel)",
   "language": "python",
   "name": "python3"
  },
  "language_info": {
   "codemirror_mode": {
    "name": "ipython",
    "version": 3
   },
   "file_extension": ".py",
   "mimetype": "text/x-python",
   "name": "python",
   "nbconvert_exporter": "python",
   "pygments_lexer": "ipython3",
   "version": "3.7.7"
  }
 },
 "nbformat": 4,
 "nbformat_minor": 5
}
